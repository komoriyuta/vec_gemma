{
 "cells": [
  {
   "cell_type": "code",
   "execution_count": 1,
   "metadata": {},
   "outputs": [
    {
     "name": "stderr",
     "output_type": "stream",
     "text": [
      "/home/yut/sail-develop/vec_gemma/.venv/lib/python3.11/site-packages/tqdm/auto.py:21: TqdmWarning: IProgress not found. Please update jupyter and ipywidgets. See https://ipywidgets.readthedocs.io/en/stable/user_install.html\n",
      "  from .autonotebook import tqdm as notebook_tqdm\n"
     ]
    }
   ],
   "source": [
    "from huggingface_hub import snapshot_download\n",
    "import torch \n",
    "from torch import nn\n",
    "from torch.nn import functional as F\n",
    "import torch.nn.functional as F\n",
    "from sentence_transformers import SentenceTransformer\n",
    "import os\n",
    "from gemma.config import GemmaConfig, get_model_config\n",
    "from gemma.model import GemmaForCausalLM\n",
    "from gemma.tokenizer import Tokenizer\n",
    "from VAEs.VAE import VAE\n",
    "import datetime"
   ]
  },
  {
   "cell_type": "code",
   "execution_count": 2,
   "metadata": {},
   "outputs": [
    {
     "name": "stderr",
     "output_type": "stream",
     "text": [
      "Fetching 4 files: 100%|██████████| 4/4 [00:00<00:00, 74898.29it/s]\n"
     ]
    }
   ],
   "source": [
    "snapshot_dir = snapshot_download(repo_id='google/gemma-2-2b-jpn-it-pytorch')\n",
    "\n",
    "# Ensure that the tokenizer is present\n",
    "tokenizer_path = os.path.join(snapshot_dir, 'tokenizer.model')\n",
    "assert os.path.isfile(tokenizer_path), 'Tokenizer not found!'\n",
    "\n",
    "# Ensure that the checkpoint is present\n",
    "ckpt_path = os.path.join(snapshot_dir, f'model.ckpt')\n",
    "assert os.path.isfile(ckpt_path), 'PyTorch checkpoint not found!'\n",
    "\n",
    "gemma_model_config = get_model_config(\"2b-v2\")\n",
    "gemma_model_config.tokenizer = tokenizer_path\n",
    "\n",
    "# Instantiate the model and load the weights.\n",
    "torch.set_default_dtype(gemma_model_config.get_dtype())\n",
    "device = torch.device(\"cuda\" if torch.cuda.is_available() else \"cpu\")\n",
    "gemma_model = GemmaForCausalLM(gemma_model_config)\n",
    "gemma_model.requires_grad_(False)\n",
    "gemma_model.load_weights(ckpt_path)\n",
    "gemma_model = gemma_model.to(device).eval()"
   ]
  },
  {
   "cell_type": "code",
   "execution_count": 3,
   "metadata": {},
   "outputs": [
    {
     "name": "stdout",
     "output_type": "stream",
     "text": [
      "1024\n"
     ]
    }
   ],
   "source": [
    "def prepare_embeddings(texts):\n",
    "    if isinstance(texts, str):\n",
    "        texts = [texts]\n",
    "    texts = [\"文章: \" + text for text in texts]\n",
    "    return texts\n",
    "# Download from the 🤗 Hub\n",
    "bert_model = SentenceTransformer(\"cl-nagoya/ruri-large\")\n",
    "bert_model.requires_grad_(False)\n",
    "bert_model = bert_model.to('cuda')\n",
    "print(bert_model.get_sentence_embedding_dimension())"
   ]
  },
  {
   "cell_type": "code",
   "execution_count": 4,
   "metadata": {},
   "outputs": [],
   "source": [
    "from pathlib import Path\n",
    "\n",
    "class TrainingConfig:\n",
    "    def __init__(self):\n",
    "        # データ設定\n",
    "        self.batch_size = 4\n",
    "        self.max_seq_len = 256\n",
    "        self.num_workers = 4\n",
    "        \n",
    "        # 最適化設定\n",
    "        self.lr = 1e-4\n",
    "        self.num_epochs = 10\n",
    "        self.grad_accum_steps = 4\n",
    "        self.beta_init = 0.0\n",
    "        self.beta_max = 0.4\n",
    "        self.beta_step = 1e-5\n",
    "        self.crop_lambda = 0.2\n",
    "\n",
    "        # モデル設定\n",
    "        self.bert_model_name = \"cl-nagoya/ruri-large\"\n",
    "        self.gemma_model_size = \"2b-v2\"\n",
    "        self.vae_hidden_dim = 512\n",
    "        self.vae_latent_dim = 128\n",
    "        \n",
    "        # 生成設定\n",
    "        self.sample_interval = 1000\n",
    "        self.num_samples = 3\n",
    "        self.max_gen_length = 100\n",
    "        self.generation_temp = 0.2\n",
    "        self.generation_top_p = 0.9\n",
    "        self.generation_top_k = 20\n",
    "        \n",
    "        self.ckpt_interval = 5000\n",
    "        # パス設定\n",
    "        self.log_dir = f\"./logs/{datetime.datetime.now()}/\"\n",
    "        self.checkpoint_dir = \"./checkpoints\"\n",
    "        self.dataset_path = \"AhmedSSabir/Japanese-wiki-dump-sentence-dataset\"\n",
    "        \n",
    "        # 初期化\n",
    "        self._setup_directories()\n",
    "        \n",
    "    def _setup_directories(self):\n",
    "        Path(self.log_dir).mkdir(parents=True, exist_ok=True)\n",
    "        Path(self.checkpoint_dir).mkdir(parents=True, exist_ok=True)\n"
   ]
  },
  {
   "cell_type": "code",
   "execution_count": 1,
   "metadata": {},
   "outputs": [
    {
     "ename": "NameError",
     "evalue": "name 'TrainingConfig' is not defined",
     "output_type": "error",
     "traceback": [
      "\u001b[0;31m---------------------------------------------------------------------------\u001b[0m",
      "\u001b[0;31mNameError\u001b[0m                                 Traceback (most recent call last)",
      "Cell \u001b[0;32mIn[1], line 1\u001b[0m\n\u001b[0;32m----> 1\u001b[0m config \u001b[38;5;241m=\u001b[39m \u001b[43mTrainingConfig\u001b[49m()\n\u001b[1;32m      2\u001b[0m a \u001b[38;5;241m=\u001b[39m torch\u001b[38;5;241m.\u001b[39mload(\u001b[38;5;124m\"\u001b[39m\u001b[38;5;124m../checkpoints/checkpoint_epoch_1_step_2025-01-29 22:27:17.220248_5000.pt\u001b[39m\u001b[38;5;124m\"\u001b[39m)\n\u001b[1;32m      4\u001b[0m config\u001b[38;5;241m.\u001b[39m\u001b[38;5;18m__dict__\u001b[39m\u001b[38;5;241m.\u001b[39mupdate(a[\u001b[38;5;124m'\u001b[39m\u001b[38;5;124m'\u001b[39m])\n",
      "\u001b[0;31mNameError\u001b[0m: name 'TrainingConfig' is not defined"
     ]
    }
   ],
   "source": [
    "config = TrainingConfig()\n",
    "a = torch.load(\"../checkpoints/checkpoint_epoch_1_step_2025-01-29 22:27:17.220248_5000.pt\")\n",
    "\n",
    "config.__dict__.update(a[''])"
   ]
  },
  {
   "cell_type": "code",
   "execution_count": 8,
   "metadata": {},
   "outputs": [],
   "source": [
    "vae_hidden_size = 512\n",
    "vae_latent_size = 128\n",
    "gemma_model.config.hidden_size = gemma_model_config.hidden_size\n",
    "vae_model = VAE(bert_model.get_sentence_embedding_dimension(), gemma_model_config.hidden_size,vae_hidden_size,vae_latent_size)\n",
    "vae_model = vae_model.to('cuda')"
   ]
  },
  {
   "cell_type": "code",
   "execution_count": null,
   "metadata": {},
   "outputs": [],
   "source": [
    "from datasets import load_dataset\n",
    "\n",
    "ds = load_dataset(\"AhmedSSabir/Japanese-wiki-dump-sentence-dataset\",cache_dir=\"./.datasets\")\n",
    "print(ds.shape)\n",
    "print(ds['train'][0]['text'])\n",
    "#テネシー大学、デューク大学、フロリダ大学などからのオファーもある中、彼が選んだのはノートルダム大学であった。"
   ]
  },
  {
   "cell_type": "code",
   "execution_count": null,
   "metadata": {},
   "outputs": [],
   "source": [
    "ckpt_dict = torch.load(\"../checkpoints/checkpoint_epoch_1_step_2025-01-25 10:36:03.710352_60000.pt\",map_location='cuda')"
   ]
  },
  {
   "cell_type": "code",
   "execution_count": null,
   "metadata": {},
   "outputs": [],
   "source": [
    "\n",
    "vae_model.load_state_dict(ckpt_dict['model_state'])"
   ]
  },
  {
   "cell_type": "code",
   "execution_count": null,
   "metadata": {},
   "outputs": [],
   "source": [
    "# %% データローダーの設定\n",
    "from torch.utils.data import DataLoader\n",
    "from schedulefree import RAdamScheduleFree\n",
    "import torch\n",
    "\n",
    "def collate_fn(batch):\n",
    "    texts = [item['text'] for item in batch]\n",
    "    return texts\n",
    "\n",
    "BATCH_SIZE = 4  # VRAMに応じて調整\n",
    "train_loader = DataLoader(\n",
    "    ds['train'],\n",
    "    batch_size=BATCH_SIZE,\n",
    "    shuffle=True,\n",
    "    collate_fn=collate_fn,\n",
    "    num_workers=4,\n",
    "    pin_memory=True\n",
    ")\n",
    "\n",
    "# %% 最適化手法の設定\n",
    "optimizer = RAdamScheduleFree(vae_model.parameters(), lr=1e-4)\n",
    "\n",
    "# KL損失のアニーリング用パラメータ\n",
    "beta = 0.1  # 初期値\n",
    "BETA_MAX = 0.8  # 最大値\n",
    "BETA_STEP = 1e-5  # ステップごとの増加量\n",
    "\n",
    "# %% 混合精度トレーニングの設定\n",
    "scaler = torch.amp.GradScaler()\n",
    "\n",
    "# %% トレーニングループ\n",
    "NUM_EPOCHS = 10\n",
    "GRAD_ACCUM_STEPS = 4  # 勾配累積ステップ数\n",
    "\n",
    "for epoch in range(NUM_EPOCHS):\n",
    "    vae_model.train()\n",
    "    total_loss = 0.0\n",
    "    total_kl = 0.0\n",
    "    total_recon = 0.0\n",
    "    \n",
    "    for step, batch_texts in enumerate(train_loader):\n",
    "        # BERTで埋め込みを取得\n",
    "        with torch.no_grad():\n",
    "            prep_texts = prepare_embeddings(batch_texts)\n",
    "            bert_embeddings = bert_model.encode(prep_texts, \n",
    "                                               convert_to_tensor=True,\n",
    "                                               device=device)\n",
    "        \n",
    "        # 混合精度コンテキスト\n",
    "        with torch.autocast(device_type='cuda', dtype=torch.bfloat16):\n",
    "            # VAEのフォワード\n",
    "            vae_output, mu, logvar = vae_model(bert_embeddings)\n",
    "            \n",
    "            # KLダイバージェンス計算\n",
    "            kl_div = -0.5 * torch.sum(1 + logvar - mu.pow(2) - logvar.exp())\n",
    "            kl_div = kl_div / bert_embeddings.size(0)  # バッチ正規化\n",
    "            \n",
    "            # Gemmaの損失計算\n",
    "            recon_loss = gemma_model.forward_teacher_forcing(\n",
    "                vae_output, \n",
    "                batch_texts,\n",
    "                max_seq_len=256  # データセットに応じて調整\n",
    "            )\n",
    "            \n",
    "            # 合計損失\n",
    "            loss = recon_loss + beta * kl_div\n",
    "        \n",
    "        # 勾配累積\n",
    "        scaler.scale(loss).backward()\n",
    "        \n",
    "        # ロギング\n",
    "        total_loss += loss.item()\n",
    "        total_kl += kl_div.item()\n",
    "        total_recon += recon_loss.item()\n",
    "        \n",
    "        if step % 100 == 0:\n",
    "            avg_loss = total_loss / (step + 1)\n",
    "            avg_kl = total_kl / (step + 1)\n",
    "            avg_recon = total_recon / (step + 1)\n",
    "            \n",
    "            print(f\"Epoch {epoch+1} | Step {step} | \"\n",
    "                  f\"Loss: {avg_loss:.4f} | KL: {avg_kl:.4f} | \"\n",
    "                  f\"Recon: {avg_recon:.4f} | Beta: {beta:.4f}\")\n",
    "    \n",
    "    # エポック終了時の処理\n",
    "    epoch_loss = total_loss / len(train_loader)\n",
    "    print(f\"Epoch {epoch+1} Completed | Avg Loss: {epoch_loss:.4f}\")\n",
    "    \n",
    "    # モデルの保存（任意）\n",
    "    if (epoch + 1) % 2 == 0:\n",
    "        torch.save(vae_model.state_dict(), f\"vae_model_epoch_{epoch+1}.pth\")"
   ]
  },
  {
   "cell_type": "code",
   "execution_count": 22,
   "metadata": {},
   "outputs": [],
   "source": [
    "import datetime\n",
    "torch.save(vae_model.state_dict(), f\"vae_model_epoch_{epoch+1}_{datetime.datetime.now()}_.pth\")"
   ]
  },
  {
   "cell_type": "code",
   "execution_count": null,
   "metadata": {},
   "outputs": [],
   "source": [
    "b_vec=bert_model.encode([\"文章:アメンボ赤いな\"],return_tensors=True,device='cuda')\n",
    "b_vec=vae_model(torch.Tensor(b_vec).to('cuda'))[0]\n",
    "b_vec=b_vec.unsqueeze(0)\n",
    "gemma_model.generate_with_initial_embedding(b_vec,device='cuda',output_len=256,temperature=0.01)"
   ]
  },
  {
   "cell_type": "code",
   "execution_count": null,
   "metadata": {},
   "outputs": [],
   "source": []
  }
 ],
 "metadata": {
  "kernelspec": {
   "display_name": ".venv",
   "language": "python",
   "name": "python3"
  },
  "language_info": {
   "codemirror_mode": {
    "name": "ipython",
    "version": 3
   },
   "file_extension": ".py",
   "mimetype": "text/x-python",
   "name": "python",
   "nbconvert_exporter": "python",
   "pygments_lexer": "ipython3",
   "version": "3.11.11"
  }
 },
 "nbformat": 4,
 "nbformat_minor": 2
}
